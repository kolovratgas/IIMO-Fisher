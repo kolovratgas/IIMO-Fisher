{
 "cells": [
  {
   "cell_type": "code",
   "execution_count": 146,
   "id": "9e537245",
   "metadata": {},
   "outputs": [],
   "source": [
    "import numpy as np\n",
    "from sklearn.linear_model import LinearRegression\n",
    "import scipy as sp\n",
    "import matplotlib.pyplot as plt\n",
    "from scipy.optimize import fsolve\n",
    "import pandas as pd\n",
    "import math\n",
    "import operator\n",
    "import seaborn as sns\n",
    "import matplotlib.pyplot as plt\n",
    "from scipy.optimize import fsolve"
   ]
  },
  {
   "cell_type": "code",
   "execution_count": 147,
   "id": "97ed2e67",
   "metadata": {},
   "outputs": [],
   "source": [
    "iris_set1 = sns.load_dataset(\"iris\")\n",
    "my_set = iris_set1.query(\"species == 'setosa' | species == 'versicolor'\")\n",
    "setosa_set = my_set.query(\"species == 'setosa'\")\n",
    "setosa_set = setosa_set.iloc[:, 0:4].to_numpy()\n",
    "versi_set = my_set.query(\"species == 'versicolor'\")\n",
    "versi_set = versi_set.iloc[:, 0:4].to_numpy()"
   ]
  },
  {
   "cell_type": "code",
   "execution_count": 148,
   "id": "9d46d94a",
   "metadata": {},
   "outputs": [],
   "source": [
    "setosa_sepal_petal = [[], []]\n",
    "for i in setosa_set:\n",
    "    setosa_sepal_petal[0].append((i[0]))\n",
    "    setosa_sepal_petal[1].append((i[2]))\n",
    "    \n",
    "    "
   ]
  },
  {
   "cell_type": "code",
   "execution_count": 149,
   "id": "eb2a0027",
   "metadata": {},
   "outputs": [],
   "source": [
    "versi_sepal_petal = [[], []]\n",
    "for i in versi_set:\n",
    "    versi_sepal_petal[0].append((i[0]))\n",
    "    versi_sepal_petal[1].append((i[2]))"
   ]
  },
  {
   "cell_type": "code",
   "execution_count": 150,
   "id": "f638d317",
   "metadata": {},
   "outputs": [],
   "source": [
    "rectangles = setosa_sepal_petal\n",
    "triangles = versi_sepal_petal"
   ]
  },
  {
   "cell_type": "code",
   "execution_count": 151,
   "id": "7e9e6867",
   "metadata": {},
   "outputs": [],
   "source": [
    "mean_rectangles = np.mean(rectangles,axis=1).reshape(2,1) # Creates a 2x1 vector consisting of the means of the dimensions \n",
    "mean_triangles = np.mean(triangles,axis=1).reshape(2,1)"
   ]
  },
  {
   "cell_type": "code",
   "execution_count": 152,
   "id": "1c50a67b",
   "metadata": {},
   "outputs": [
    {
     "name": "stdout",
     "output_type": "stream",
     "text": [
      "[[6.0882 0.8014]\n",
      " [0.8014 1.4778]]\n",
      "[[13.0552  8.962 ]\n",
      " [ 8.962  10.82  ]]\n"
     ]
    }
   ],
   "source": [
    "scatter_rectangles = np.dot((rectangles-mean_rectangles),(rectangles-mean_rectangles).T)\n",
    "print(scatter_rectangles)\n",
    "scatter_triangles = np.dot((triangles-mean_triangles),(triangles-mean_triangles).T)\n",
    "print(scatter_triangles)"
   ]
  },
  {
   "cell_type": "code",
   "execution_count": 153,
   "id": "f9136486",
   "metadata": {},
   "outputs": [],
   "source": [
    "SW = scatter_triangles+scatter_rectangles\n",
    "SW1=np.linalg.inv(SW)\n",
    "w=np.dot(SW1,mean_rectangles-mean_triangles)"
   ]
  },
  {
   "cell_type": "code",
   "execution_count": 154,
   "id": "4b058b15",
   "metadata": {},
   "outputs": [
    {
     "name": "stdout",
     "output_type": "stream",
     "text": [
      "[[ 0.11335687]\n",
      " [-0.31751601]]\n"
     ]
    },
    {
     "name": "stderr",
     "output_type": "stream",
     "text": [
      "C:\\Users\\rsoko\\AppData\\Local\\Temp/ipykernel_4116/2576739780.py:6: UserWarning: You passed a edgecolor/edgecolors ('black') for an unfilled marker ('x').  Matplotlib is ignoring the edgecolor in favor of the facecolor.  This behavior may change in the future.\n",
      "  ax.scatter(mean_rectangles[0],mean_rectangles[1],marker='x',c='red',edgecolor='black')\n",
      "C:\\Users\\rsoko\\AppData\\Local\\Temp/ipykernel_4116/2576739780.py:7: UserWarning: You passed a edgecolor/edgecolors ('black') for an unfilled marker ('x').  Matplotlib is ignoring the edgecolor in favor of the facecolor.  This behavior may change in the future.\n",
      "  ax.scatter(mean_triangles[0],mean_triangles[1],marker='x',c='red',edgecolor='black')\n",
      "C:\\Users\\rsoko\\AppData\\Local\\Temp/ipykernel_4116/2576739780.py:14: UserWarning: You passed a edgecolor/edgecolors ('black') for an unfilled marker ('x').  Matplotlib is ignoring the edgecolor in favor of the facecolor.  This behavior may change in the future.\n",
      "  ax.scatter(mean[0],mean[1],marker='x',c='red',edgecolor='black')\n"
     ]
    },
    {
     "data": {
      "image/png": "[encoded data removed]",
      "text/plain": [
       "<Figure size 432x288 with 1 Axes>"
      ]
     },
     "metadata": {
      "needs_background": "light"
     },
     "output_type": "display_data"
    }
   ],
   "source": [
    "fig, ax = plt.subplots()\n",
    "\n",
    "ax.scatter(rectangles[0],rectangles[1],marker='s',c='grey',edgecolor='black')\n",
    "ax.scatter(triangles[0],triangles[1],marker='^',c='yellow',edgecolor='black')\n",
    "\n",
    "ax.scatter(mean_rectangles[0],mean_rectangles[1],marker='x',c='red',edgecolor='black')\n",
    "ax.scatter(mean_triangles[0],mean_triangles[1],marker='x',c='red',edgecolor='black')\n",
    "\n",
    "ax.plot((mean_rectangles[0],mean_triangles[0]), (mean_rectangles[1],mean_triangles[1] ))\n",
    "\n",
    "mean=(mean_rectangles+mean_triangles)/2\n",
    "mean1=mean+w/2\n",
    "mean2=mean-w/2\n",
    "ax.scatter(mean[0],mean[1],marker='x',c='red',edgecolor='black')\n",
    "ax.plot((mean1[0],mean2[0]), (mean1[1],mean2[1] ), c='red' )\n",
    "ax.set_xlim([4, 7.5])         \n",
    "ax.set_ylim([0, 6]) \n",
    "c=-w[0]/w[1]\n",
    "u=np.array([1,c[0]]).reshape(2,1)\n",
    "mean1=mean+u/2\n",
    "mean2=mean-u/2\n",
    "ax.plot((mean1[0],mean2[0]), (mean1[1],mean2[1] ), c='black' )\n",
    "\n",
    "print(w)\n",
    "plt.show()\n"
   ]
  },
  {
   "cell_type": "code",
   "execution_count": null,
   "id": "c12d2f40",
   "metadata": {},
   "outputs": [],
   "source": []
  },
  {
   "cell_type": "code",
   "execution_count": null,
   "id": "e5e765d6",
   "metadata": {},
   "outputs": [],
   "source": []
  }
 ],
 "metadata": {
  "kernelspec": {
   "display_name": "Python 3 (ipykernel)",
   "language": "python",
   "name": "python3"
  },
  "language_info": {
   "codemirror_mode": {
    "name": "ipython",
    "version": 3
   },
   "file_extension": ".py",
   "mimetype": "text/x-python",
   "name": "python",
   "nbconvert_exporter": "python",
   "pygments_lexer": "ipython3",
   "version": "3.8.11"
  }
 },
 "nbformat": 4,
 "nbformat_minor": 5
}
